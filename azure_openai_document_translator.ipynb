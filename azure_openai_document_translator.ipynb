{
  "nbformat": 4,
  "nbformat_minor": 0,
  "metadata": {
    "colab": {
      "provenance": []
    },
    "kernelspec": {
      "name": "python3",
      "display_name": "Python 3"
    },
    "language_info": {
      "name": "python"
    }
  },
  "cells": [
    {
      "cell_type": "code",
      "execution_count": null,
      "metadata": {
        "id": "EkZXs7daJLJL",
        "collapsed": true
      },
      "outputs": [],
      "source": [
        "!pip install requests python-docx"
      ]
    },
    {
      "cell_type": "markdown",
      "source": [
        "## Tradutor de texto"
      ],
      "metadata": {
        "id": "OcCAvRlWRbDX"
      }
    },
    {
      "cell_type": "code",
      "source": [
        "import requests\n",
        "from docx import Document\n",
        "import os\n",
        "\n",
        "# translator-dio-mcsft-cert > Gerenciamento de Recursos > Chaves e Ponto de extremidade\n",
        "subscription_key = \"YOUR_KEY\"\n",
        "endpoint = \"YOUR_ENDPOINT\"\n",
        "location = \"eastus2\"\n",
        "\n",
        "target_language = \"pt-br\"\n",
        "\n",
        "def translator_text(text, target_language):\n",
        "  path = \"/translate\"\n",
        "  constructed_url = endpoint + path\n",
        "  headers = {\n",
        "      'Ocp-Apim-Subscription-Key': subscription_key,\n",
        "      'Ocp-Apim-Subscription-Region': location,\n",
        "      'Content-type': 'application/json',\n",
        "      'X-ClientTraceId': str(os.urandom(16))\n",
        "  }\n",
        "\n",
        "  body = [{\n",
        "      'text': text\n",
        "  }]\n",
        "\n",
        "  params = {\n",
        "      'api-version': '3.0',\n",
        "      'from': 'en',\n",
        "      'to': target_language\n",
        "  }\n",
        "\n",
        "  request = requests.post(constructed_url, headers=headers, json=body, params=params)\n",
        "  response = request.json()\n",
        "  return response[0][\"translations\"][0][\"text\"]"
      ],
      "metadata": {
        "id": "d5UNwfyzJgro"
      },
      "execution_count": null,
      "outputs": []
    },
    {
      "cell_type": "code",
      "source": [
        "translator_text(\"The answer is blowin' in the wind\", target_language)"
      ],
      "metadata": {
        "id": "vRv0BJ4hL50L"
      },
      "execution_count": null,
      "outputs": []
    },
    {
      "cell_type": "markdown",
      "source": [
        "## Tradutor de documento"
      ],
      "metadata": {
        "id": "vg9c7y7KRgDJ"
      }
    },
    {
      "cell_type": "code",
      "source": [
        "def translate_document(path):\n",
        "  document = Document(path)\n",
        "  translated_doc = Document()\n",
        "\n",
        "  for paragraph in document.paragraphs:\n",
        "    paragraph.text = translator_text(paragraph.text, target_language)\n",
        "    translated_doc.add_paragraph(paragraph.text)\n",
        "  path_translated = path.replace(\".docx\", f\"_{target_language}.docx\")\n",
        "  translated_doc.save(path_translated)\n",
        "  return path_translated"
      ],
      "metadata": {
        "id": "4nPa7tGjRd-T"
      },
      "execution_count": null,
      "outputs": []
    },
    {
      "cell_type": "code",
      "source": [
        "input_path = \"/content/blowin-in-the-wind.docx\"\n",
        "document_translated = translate_document(input_path)"
      ],
      "metadata": {
        "id": "4J38-Vc-S_Uh"
      },
      "execution_count": null,
      "outputs": []
    },
    {
      "cell_type": "code",
      "source": [
        "show_translation = Document(document_translated)\n",
        "for paragraph in show_translation.paragraphs:\n",
        "  print(paragraph.text)"
      ],
      "metadata": {
        "id": "cgBL2i4ZVJqB"
      },
      "execution_count": null,
      "outputs": []
    }
  ]
}