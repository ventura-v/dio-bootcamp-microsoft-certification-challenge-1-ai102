{
  "nbformat": 4,
  "nbformat_minor": 0,
  "metadata": {
    "colab": {
      "provenance": []
    },
    "kernelspec": {
      "name": "python3",
      "display_name": "Python 3"
    },
    "language_info": {
      "name": "python"
    }
  },
  "cells": [
    {
      "cell_type": "code",
      "execution_count": null,
      "metadata": {
        "id": "RfVl_PFBV_az"
      },
      "outputs": [],
      "source": [
        "!pip install requests beautifulsoup4 openai langchain-openai"
      ]
    },
    {
      "cell_type": "code",
      "source": [
        "import requests\n",
        "from bs4 import BeautifulSoup\n",
        "\n",
        "def extract_text_from_url(url):\n",
        "    response = requests.get(url)\n",
        "\n",
        "    if response.status_code != 200:\n",
        "        raise ValueError(f\"Failed to fetch URL. Status code: {response.status_code}\")\n",
        "    else:\n",
        "      soup = BeautifulSoup(response.text, 'html.parser')\n",
        "      for script_or_style in soup([\"script\", \"style\"]):\n",
        "        script_or_style.decompose()\n",
        "      text = soup.get_text(separator=\" \")\n",
        "\n",
        "      #clean text\n",
        "      lines = (line.strip() for line in text.splitlines())\n",
        "      chunks = (phrase.strip() for line in lines for phrase in line.split(\"  \"))\n",
        "      clean_text = '\\n'.join(chunk for chunk in chunks if chunk)\n",
        "      return clean_text\n",
        "    text = soup.get_text()\n",
        "    return text\n",
        "\n",
        "extract_text_from_url(\"https://dev.to/kenakamu/azure-open-ai-in-vnet-3alo\")"
      ],
      "metadata": {
        "id": "9Zi32wAQWvcv"
      },
      "execution_count": null,
      "outputs": []
    },
    {
      "cell_type": "code",
      "source": [
        "from langchain_openai.chat_models.azure import AzureChatOpenAI\n",
        "\n",
        "client = AzureChatOpenAI(\n",
        "    azure_endpoint=\"YOUR_ENDPOINT\",\n",
        "    api_key=\"YOUR_API_KEY\",\n",
        "    api_version=\"2024-02-15-preview\",\n",
        "    deployment_name=\"gpt-4o-mini\",\n",
        "    max_retries=0\n",
        ")\n",
        "\n",
        "def translate_article(text, lang):\n",
        "  messages = [\n",
        "      (\n",
        "          \"system\",\n",
        "          \"Você atua como tradutor de textos\"\n",
        "      ),\n",
        "      (\n",
        "          \"human\",\n",
        "          f\"Traduza o {text} para o idioma {lang} e responda em markdown\"\n",
        "      )\n",
        "  ]\n",
        "\n",
        "\n",
        "  response = client.invoke(messages)\n",
        "  print(response.content)\n",
        "  return response.content\n",
        "\n",
        "translate_article(\"Testing the translate\", \"portugues\")"
      ],
      "metadata": {
        "id": "xaeNwKGaYG7h"
      },
      "execution_count": null,
      "outputs": []
    },
    {
      "cell_type": "code",
      "source": [
        "url = \"https://dev.to/kenakamu/azure-open-ai-in-vnet-3alo\"\n",
        "text = extract_text_from_url(url)\n",
        "translate_article(text, \"pt-br\")\n",
        "\n",
        "print(translate_article)"
      ],
      "metadata": {
        "id": "1boA2yjN20td"
      },
      "execution_count": null,
      "outputs": []
    }
  ]
}